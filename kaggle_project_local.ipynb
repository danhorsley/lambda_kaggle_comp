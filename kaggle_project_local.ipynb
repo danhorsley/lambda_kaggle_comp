{
 "cells": [
  {
   "cell_type": "code",
   "execution_count": 1,
   "metadata": {},
   "outputs": [],
   "source": [
    "#many parameters and mappings from yesterday hardcoded so as not to run them again as quite time consuming\n",
    "#today was spent looking through many other classifiers and trying to combine classifiers\n",
    "#considering the time spent there was very little success with only a marginal gain from a very different\n",
    "#random forest then combingin it with my random forest from yesterday with a voting classifier\n",
    "import pandas as pd\n",
    "import numpy as np"
   ]
  },
  {
   "cell_type": "code",
   "execution_count": 2,
   "metadata": {},
   "outputs": [],
   "source": [
    "df=pd.read_csv('C:/Users/danie/Desktop/train_features.csv')"
   ]
  },
  {
   "cell_type": "code",
   "execution_count": 3,
   "metadata": {},
   "outputs": [],
   "source": [
    "region_dict={'Arusha': 2, 'Dar es Salaam': 7, 'Dodoma': 1, 'Iringa': 11, 'Kagera': 18, 'Kigoma': 16, 'Kilimanjaro': 3,\n",
    "             'Lindi': 80, 'Manyara': 21, 'Mara': 20, 'Mbeya': 12, 'Morogoro': 5, 'Mtwara': 90, 'Mwanza': 19, 'Pwani': 6, \n",
    "             'Rukwa': 15, 'Ruvuma': 10, 'Shinyanga': 17, 'Singida': 13, 'Tabora': 14, 'Tanga': 4}\n",
    "def clean_region(frame):\n",
    "    frame['region_code']=frame['region'].map(region_dict)"
   ]
  },
  {
   "cell_type": "code",
   "execution_count": 4,
   "metadata": {},
   "outputs": [],
   "source": [
    "clean_region(df)"
   ]
  },
  {
   "cell_type": "code",
   "execution_count": 5,
   "metadata": {},
   "outputs": [],
   "source": [
    "#this bit of code will clean up all the non entries in long and lat using a mean for region/area if possible, if not just region\n",
    "df['my_area_code']=100*df['region_code']+df['district_code']\n",
    "df_long_lat=df[['region_code','my_area_code','longitude','latitude']].copy()\n",
    "df_long_lat=df_long_lat[df_long_lat['longitude']!=0]\n",
    "df_ll=df_long_lat.groupby(['my_area_code'])[['longitude','latitude']].mean()\n",
    "longitude_dict=df_ll['longitude'].to_dict()\n",
    "latitude_dict=df_ll['latitude'].to_dict()\n",
    "df_ll2=df_long_lat.groupby(['region_code'])[['longitude','latitude']].mean()\n",
    "longitude_dict2=df_ll2['longitude'].to_dict()\n",
    "latitude_dict2=df_ll2['latitude'].to_dict()\n",
    "\n",
    "\n",
    "def clean_long_lat(frame):\n",
    "    frame['my_area_code']=100*frame['region_code']+frame['district_code']\n",
    "    frame['latitude_est']=frame['my_area_code'].map(latitude_dict)\n",
    "    frame['longitude_est']=frame['my_area_code'].map(longitude_dict)\n",
    "    frame['latitude_est2']=frame['region_code'].map(latitude_dict2)\n",
    "    frame['longitude_est2']=frame['region_code'].map(longitude_dict2)\n",
    "    frame['new_longitude']=np.where(frame['longitude']!=0,frame['longitude'],frame['longitude_est'])\n",
    "    frame['new_longitude']=np.where(frame['new_longitude'].isna(),frame['longitude_est2'],frame['new_longitude'])\n",
    "    frame['new_latitude']=np.where(frame['latitude']!=0,frame['latitude'],frame['latitude_est'])\n",
    "    frame['new_latitude']=np.where(frame['new_latitude'].isna(),frame['latitude_est2'],frame['new_latitude'])\n",
    "    frame=frame.drop(['my_area_code','latitude_est','longitude_est','latitude_est2','longitude_est2'],axis=1)"
   ]
  },
  {
   "cell_type": "code",
   "execution_count": 6,
   "metadata": {},
   "outputs": [],
   "source": [
    "clean_long_lat(df)"
   ]
  },
  {
   "cell_type": "code",
   "execution_count": 7,
   "metadata": {},
   "outputs": [],
   "source": [
    "features=['basin','region','public_meeting','scheme_management','permit','extraction_type',\n",
    " 'extraction_type_group','extraction_type_class','management','management_group','payment',\n",
    " 'payment_type','water_quality','quality_group','quantity','quantity_group','source','source_type',\n",
    " 'source_class','waterpoint_type','waterpoint_type_group','amount_tsh','gps_height','new_longitude','new_latitude',\n",
    " 'region_code','district_code','population','construction_year']"
   ]
  },
  {
   "cell_type": "code",
   "execution_count": 8,
   "metadata": {},
   "outputs": [],
   "source": [
    "X=df.copy()[features]\n",
    "\n",
    "from sklearn.ensemble import RandomForestClassifier\n",
    "from sklearn.impute import SimpleImputer\n",
    "import category_encoders as ce\n",
    "from sklearn.pipeline import make_pipeline\n",
    "from sklearn.preprocessing import RobustScaler\n",
    "preprocessor = make_pipeline(ce.OrdinalEncoder(),SimpleImputer(),RobustScaler())\n",
    "\n",
    "preprocessor.fit(X)\n",
    "\n",
    "def process_data(frame):\n",
    "    X=frame.copy()[features]\n",
    "    X = preprocessor.transform(X)\n",
    "    X=pd.DataFrame(X,columns=features)\n",
    "\n",
    "    return X"
   ]
  },
  {
   "cell_type": "code",
   "execution_count": 9,
   "metadata": {},
   "outputs": [],
   "source": [
    "X=process_data(X)"
   ]
  },
  {
   "cell_type": "code",
   "execution_count": 10,
   "metadata": {},
   "outputs": [
    {
     "data": {
      "text/html": [
       "<div>\n",
       "<style scoped>\n",
       "    .dataframe tbody tr th:only-of-type {\n",
       "        vertical-align: middle;\n",
       "    }\n",
       "\n",
       "    .dataframe tbody tr th {\n",
       "        vertical-align: top;\n",
       "    }\n",
       "\n",
       "    .dataframe thead th {\n",
       "        text-align: right;\n",
       "    }\n",
       "</style>\n",
       "<table border=\"1\" class=\"dataframe\">\n",
       "  <thead>\n",
       "    <tr style=\"text-align: right;\">\n",
       "      <th></th>\n",
       "      <th>status_group</th>\n",
       "    </tr>\n",
       "  </thead>\n",
       "  <tbody>\n",
       "    <tr>\n",
       "      <th>0</th>\n",
       "      <td>1</td>\n",
       "    </tr>\n",
       "    <tr>\n",
       "      <th>1</th>\n",
       "      <td>1</td>\n",
       "    </tr>\n",
       "    <tr>\n",
       "      <th>2</th>\n",
       "      <td>1</td>\n",
       "    </tr>\n",
       "    <tr>\n",
       "      <th>3</th>\n",
       "      <td>0</td>\n",
       "    </tr>\n",
       "    <tr>\n",
       "      <th>4</th>\n",
       "      <td>1</td>\n",
       "    </tr>\n",
       "  </tbody>\n",
       "</table>\n",
       "</div>"
      ],
      "text/plain": [
       "   status_group\n",
       "0             1\n",
       "1             1\n",
       "2             1\n",
       "3             0\n",
       "4             1"
      ]
     },
     "execution_count": 10,
     "metadata": {},
     "output_type": "execute_result"
    }
   ],
   "source": [
    "y=pd.read_csv('C:/Users/danie/Desktop/train_labels.csv')\n",
    "y=y.drop('id',axis=1)\n",
    "y_dict={'functional':1,'non functional':0,'functional needs repair':2}\n",
    "y['status_group']=y['status_group'].map(y_dict)\n",
    "y.head()"
   ]
  },
  {
   "cell_type": "code",
   "execution_count": 22,
   "metadata": {},
   "outputs": [],
   "source": [
    "from sklearn.ensemble import RandomForestClassifier\n",
    "from xgboost import XGBClassifier\n",
    "from sklearn.model_selection import cross_validate\n",
    "from sklearn.metrics import roc_auc_score\n",
    "from sklearn.metrics import accuracy_score\n",
    "from sklearn.model_selection import RandomizedSearchCV\n",
    "from scipy.stats import randint"
   ]
  },
  {
   "cell_type": "code",
   "execution_count": 23,
   "metadata": {},
   "outputs": [
    {
     "name": "stderr",
     "output_type": "stream",
     "text": [
      "C:\\Users\\danie\\Anaconda3\\lib\\site-packages\\ipykernel_launcher.py:2: DataConversionWarning: A column-vector y was passed when a 1d array was expected. Please change the shape of y to (n_samples,), for example using ravel().\n",
      "  \n"
     ]
    },
    {
     "data": {
      "text/plain": [
       "RandomForestClassifier(bootstrap=True, class_weight=None, criterion='gini',\n",
       "            max_depth=20, max_features='auto', max_leaf_nodes=None,\n",
       "            min_impurity_decrease=0.0, min_impurity_split=None,\n",
       "            min_samples_leaf=1, min_samples_split=2,\n",
       "            min_weight_fraction_leaf=0.0, n_estimators=133, n_jobs=-1,\n",
       "            oob_score=False, random_state=42, verbose=0, warm_start=False)"
      ]
     },
     "execution_count": 23,
     "metadata": {},
     "output_type": "execute_result"
    }
   ],
   "source": [
    "model=RandomForestClassifier(max_depth=20,n_estimators=133,n_jobs=-1,random_state=42)\n",
    "model.fit(X,y)"
   ]
  },
  {
   "cell_type": "code",
   "execution_count": 24,
   "metadata": {},
   "outputs": [
    {
     "name": "stderr",
     "output_type": "stream",
     "text": [
      "C:\\Users\\danie\\Anaconda3\\lib\\site-packages\\sklearn\\model_selection\\_validation.py:528: DataConversionWarning: A column-vector y was passed when a 1d array was expected. Please change the shape of y to (n_samples,), for example using ravel().\n",
      "  estimator.fit(X_train, y_train, **fit_params)\n",
      "C:\\Users\\danie\\Anaconda3\\lib\\site-packages\\sklearn\\model_selection\\_validation.py:528: DataConversionWarning: A column-vector y was passed when a 1d array was expected. Please change the shape of y to (n_samples,), for example using ravel().\n",
      "  estimator.fit(X_train, y_train, **fit_params)\n",
      "C:\\Users\\danie\\Anaconda3\\lib\\site-packages\\sklearn\\model_selection\\_validation.py:528: DataConversionWarning: A column-vector y was passed when a 1d array was expected. Please change the shape of y to (n_samples,), for example using ravel().\n",
      "  estimator.fit(X_train, y_train, **fit_params)\n",
      "C:\\Users\\danie\\Anaconda3\\lib\\site-packages\\sklearn\\model_selection\\_validation.py:528: DataConversionWarning: A column-vector y was passed when a 1d array was expected. Please change the shape of y to (n_samples,), for example using ravel().\n",
      "  estimator.fit(X_train, y_train, **fit_params)\n",
      "C:\\Users\\danie\\Anaconda3\\lib\\site-packages\\sklearn\\model_selection\\_validation.py:528: DataConversionWarning: A column-vector y was passed when a 1d array was expected. Please change the shape of y to (n_samples,), for example using ravel().\n",
      "  estimator.fit(X_train, y_train, **fit_params)\n",
      "C:\\Users\\danie\\Anaconda3\\lib\\site-packages\\sklearn\\utils\\deprecation.py:125: FutureWarning: You are accessing a training score ('train_score'), which will not be available by default any more in 0.21. If you need training scores, please set return_train_score=True\n",
      "  warnings.warn(*warn_args, **warn_kwargs)\n"
     ]
    },
    {
     "data": {
      "text/plain": [
       "{'fit_time': array([12.58218074,  9.06301546,  9.99330711, 10.36168003, 10.77766037]),\n",
       " 'score_time': array([0.34390068, 0.35938978, 0.46891046, 0.45314121, 0.46892214]),\n",
       " 'test_score': array([0.81348371, 0.80877031, 0.81043771, 0.80816498, 0.80771174]),\n",
       " 'train_score': array([0.94993582, 0.95105116, 0.95065236, 0.95      , 0.95185388])}"
      ]
     },
     "execution_count": 24,
     "metadata": {},
     "output_type": "execute_result"
    }
   ],
   "source": [
    "from sklearn.model_selection import cross_validate\n",
    "cv_results = cross_validate(model, X, y, cv=5)\n",
    "cv_results"
   ]
  },
  {
   "cell_type": "code",
   "execution_count": 22,
   "metadata": {},
   "outputs": [
    {
     "name": "stderr",
     "output_type": "stream",
     "text": [
      "C:\\Users\\danie\\Anaconda3\\lib\\site-packages\\sklearn\\utils\\validation.py:761: DataConversionWarning: A column-vector y was passed when a 1d array was expected. Please change the shape of y to (n_samples, ), for example using ravel().\n",
      "  y = column_or_1d(y, warn=True)\n",
      "C:\\Users\\danie\\Anaconda3\\lib\\site-packages\\sklearn\\utils\\validation.py:761: DataConversionWarning: A column-vector y was passed when a 1d array was expected. Please change the shape of y to (n_samples, ), for example using ravel().\n",
      "  y = column_or_1d(y, warn=True)\n",
      "C:\\Users\\danie\\Anaconda3\\lib\\site-packages\\sklearn\\utils\\validation.py:761: DataConversionWarning: A column-vector y was passed when a 1d array was expected. Please change the shape of y to (n_samples, ), for example using ravel().\n",
      "  y = column_or_1d(y, warn=True)\n",
      "C:\\Users\\danie\\Anaconda3\\lib\\site-packages\\sklearn\\utils\\deprecation.py:125: FutureWarning: You are accessing a training score ('train_score'), which will not be available by default any more in 0.21. If you need training scores, please set return_train_score=True\n",
      "  warnings.warn(*warn_args, **warn_kwargs)\n"
     ]
    },
    {
     "data": {
      "text/plain": [
       "{'fit_time': array([17.20932078, 21.22799182, 20.59823942]),\n",
       " 'score_time': array([1.59440327, 1.37335134, 1.42033839]),\n",
       " 'test_score': array([0.805     , 0.80656566, 0.80439394]),\n",
       " 'train_score': array([0.9735101 , 0.97396465, 0.97421717])}"
      ]
     },
     "execution_count": 22,
     "metadata": {},
     "output_type": "execute_result"
    }
   ],
   "source": [
    "#ada boost is worse than just normal!!!  seems to be way over fitting with 50 estimators socres were 99.5/79\n",
    "#tryin 5 estimators next\n",
    "from sklearn.ensemble import AdaBoostClassifier\n",
    "ada_model=AdaBoostClassifier(base_estimator=model,n_estimators=2,random_state=42)\n",
    "cv_results_ada = cross_validate(ada_model, X, y, cv=3)\n",
    "cv_results_ada"
   ]
  },
  {
   "cell_type": "code",
   "execution_count": 18,
   "metadata": {},
   "outputs": [
    {
     "name": "stderr",
     "output_type": "stream",
     "text": [
      "C:\\Users\\danie\\Anaconda3\\lib\\site-packages\\sklearn\\model_selection\\_validation.py:528: DataConversionWarning: A column-vector y was passed when a 1d array was expected. Please change the shape of y to (n_samples,), for example using ravel().\n",
      "  estimator.fit(X_train, y_train, **fit_params)\n",
      "C:\\Users\\danie\\Anaconda3\\lib\\site-packages\\sklearn\\model_selection\\_validation.py:528: DataConversionWarning: A column-vector y was passed when a 1d array was expected. Please change the shape of y to (n_samples,), for example using ravel().\n",
      "  estimator.fit(X_train, y_train, **fit_params)\n",
      "C:\\Users\\danie\\Anaconda3\\lib\\site-packages\\sklearn\\model_selection\\_validation.py:528: DataConversionWarning: A column-vector y was passed when a 1d array was expected. Please change the shape of y to (n_samples,), for example using ravel().\n",
      "  estimator.fit(X_train, y_train, **fit_params)\n",
      "C:\\Users\\danie\\Anaconda3\\lib\\site-packages\\sklearn\\utils\\deprecation.py:125: FutureWarning: You are accessing a training score ('train_score'), which will not be available by default any more in 0.21. If you need training scores, please set return_train_score=True\n",
      "  warnings.warn(*warn_args, **warn_kwargs)\n"
     ]
    },
    {
     "data": {
      "text/plain": [
       "{'fit_time': array([12.26110387, 12.35414386, 13.35739875]),\n",
       " 'score_time': array([1.44036627, 1.45536876, 1.52439427]),\n",
       " 'test_score': array([0.79505051, 0.79727273, 0.79459596]),\n",
       " 'train_score': array([0.92790404, 0.92838384, 0.92979798])}"
      ]
     },
     "execution_count": 18,
     "metadata": {},
     "output_type": "execute_result"
    }
   ],
   "source": [
    "from sklearn.ensemble import ExtraTreesClassifier\n",
    "et_model=ExtraTreesClassifier(n_estimators=133,max_depth=20,random_state=42)\n",
    "cv_results_et = cross_validate(et_model, X, y, cv=3)\n",
    "cv_results_et"
   ]
  },
  {
   "cell_type": "code",
   "execution_count": 19,
   "metadata": {},
   "outputs": [
    {
     "name": "stdout",
     "output_type": "stream",
     "text": [
      "Fitting 3 folds for each of 30 candidates, totalling 90 fits\n"
     ]
    },
    {
     "name": "stderr",
     "output_type": "stream",
     "text": [
      "[Parallel(n_jobs=-1)]: Using backend LokyBackend with 4 concurrent workers.\n",
      "[Parallel(n_jobs=-1)]: Done   5 tasks      | elapsed:  1.0min\n",
      "[Parallel(n_jobs=-1)]: Done  10 tasks      | elapsed:  1.5min\n",
      "[Parallel(n_jobs=-1)]: Done  17 tasks      | elapsed:  2.0min\n",
      "[Parallel(n_jobs=-1)]: Done  24 tasks      | elapsed:  2.7min\n",
      "[Parallel(n_jobs=-1)]: Done  33 tasks      | elapsed:  3.3min\n",
      "[Parallel(n_jobs=-1)]: Done  42 tasks      | elapsed:  4.4min\n",
      "[Parallel(n_jobs=-1)]: Done  53 tasks      | elapsed:  5.3min\n",
      "[Parallel(n_jobs=-1)]: Done  64 tasks      | elapsed:  6.1min\n",
      "[Parallel(n_jobs=-1)]: Done  77 tasks      | elapsed:  7.3min\n",
      "[Parallel(n_jobs=-1)]: Done  90 out of  90 | elapsed:  8.3min finished\n",
      "C:\\Users\\danie\\Anaconda3\\lib\\site-packages\\sklearn\\model_selection\\_search.py:740: DataConversionWarning: A column-vector y was passed when a 1d array was expected. Please change the shape of y to (n_samples,), for example using ravel().\n",
      "  self.best_estimator_.fit(X, y, **fit_params)\n"
     ]
    },
    {
     "data": {
      "text/plain": [
       "RandomizedSearchCV(cv=3, error_score='raise-deprecating',\n",
       "          estimator=ExtraTreesClassifier(bootstrap=False, class_weight=None, criterion='gini',\n",
       "           max_depth=None, max_features='auto', max_leaf_nodes=None,\n",
       "           min_impurity_decrease=0.0, min_impurity_split=None,\n",
       "           min_samples_leaf=1, min_samples_split=2,\n",
       "           min_weight_fraction_leaf=0.0, n_estimators='warn', n_jobs=-1,\n",
       "           oob_score=False, random_state=42, verbose=0, warm_start=False),\n",
       "          fit_params=None, iid='warn', n_iter=30, n_jobs=-1,\n",
       "          param_distributions={'n_estimators': <scipy.stats._distn_infrastructure.rv_frozen object at 0x00000289607ECB70>, 'max_depth': <scipy.stats._distn_infrastructure.rv_frozen object at 0x00000289607ECCF8>},\n",
       "          pre_dispatch='2*n_jobs', random_state=None, refit=True,\n",
       "          return_train_score=True, scoring='accuracy', verbose=10)"
      ]
     },
     "execution_count": 19,
     "metadata": {},
     "output_type": "execute_result"
    }
   ],
   "source": [
    "from sklearn.model_selection import RandomizedSearchCV\n",
    "param_distributions_et = {\n",
    "    'n_estimators':randint(75,150),\n",
    "    'max_depth':randint(10,22)\n",
    "}\n",
    "\n",
    "search_et=RandomizedSearchCV(\n",
    "      estimator=ExtraTreesClassifier(n_jobs=-1,random_state=42),\n",
    "      param_distributions=param_distributions_et,\n",
    "      n_iter=30,\n",
    "      scoring='accuracy',\n",
    "      n_jobs=-1,\n",
    "      cv=3,\n",
    "      verbose=10,\n",
    "      return_train_score=True)\n",
    "\n",
    "search_et.fit(X,y)"
   ]
  },
  {
   "cell_type": "code",
   "execution_count": 20,
   "metadata": {},
   "outputs": [
    {
     "data": {
      "text/html": [
       "<div>\n",
       "<style scoped>\n",
       "    .dataframe tbody tr th:only-of-type {\n",
       "        vertical-align: middle;\n",
       "    }\n",
       "\n",
       "    .dataframe tbody tr th {\n",
       "        vertical-align: top;\n",
       "    }\n",
       "\n",
       "    .dataframe thead th {\n",
       "        text-align: right;\n",
       "    }\n",
       "</style>\n",
       "<table border=\"1\" class=\"dataframe\">\n",
       "  <thead>\n",
       "    <tr style=\"text-align: right;\">\n",
       "      <th></th>\n",
       "      <th>mean_fit_time</th>\n",
       "      <th>std_fit_time</th>\n",
       "      <th>mean_score_time</th>\n",
       "      <th>std_score_time</th>\n",
       "      <th>param_max_depth</th>\n",
       "      <th>param_n_estimators</th>\n",
       "      <th>params</th>\n",
       "      <th>split0_test_score</th>\n",
       "      <th>split1_test_score</th>\n",
       "      <th>split2_test_score</th>\n",
       "      <th>mean_test_score</th>\n",
       "      <th>std_test_score</th>\n",
       "      <th>rank_test_score</th>\n",
       "      <th>split0_train_score</th>\n",
       "      <th>split1_train_score</th>\n",
       "      <th>split2_train_score</th>\n",
       "      <th>mean_train_score</th>\n",
       "      <th>std_train_score</th>\n",
       "    </tr>\n",
       "  </thead>\n",
       "  <tbody>\n",
       "    <tr>\n",
       "      <th>7</th>\n",
       "      <td>16.675883</td>\n",
       "      <td>0.394455</td>\n",
       "      <td>2.599996</td>\n",
       "      <td>0.140616</td>\n",
       "      <td>21</td>\n",
       "      <td>105</td>\n",
       "      <td>{'max_depth': 21, 'n_estimators': 105}</td>\n",
       "      <td>0.796515</td>\n",
       "      <td>0.798939</td>\n",
       "      <td>0.796465</td>\n",
       "      <td>0.797306</td>\n",
       "      <td>0.001155</td>\n",
       "      <td>1</td>\n",
       "      <td>0.940379</td>\n",
       "      <td>0.941515</td>\n",
       "      <td>0.942778</td>\n",
       "      <td>0.941557</td>\n",
       "      <td>0.000980</td>\n",
       "    </tr>\n",
       "    <tr>\n",
       "      <th>19</th>\n",
       "      <td>15.070471</td>\n",
       "      <td>0.383526</td>\n",
       "      <td>2.629664</td>\n",
       "      <td>0.136685</td>\n",
       "      <td>21</td>\n",
       "      <td>94</td>\n",
       "      <td>{'max_depth': 21, 'n_estimators': 94}</td>\n",
       "      <td>0.796667</td>\n",
       "      <td>0.798990</td>\n",
       "      <td>0.795808</td>\n",
       "      <td>0.797155</td>\n",
       "      <td>0.001344</td>\n",
       "      <td>2</td>\n",
       "      <td>0.940253</td>\n",
       "      <td>0.941591</td>\n",
       "      <td>0.943056</td>\n",
       "      <td>0.941633</td>\n",
       "      <td>0.001145</td>\n",
       "    </tr>\n",
       "    <tr>\n",
       "      <th>4</th>\n",
       "      <td>16.315252</td>\n",
       "      <td>0.318128</td>\n",
       "      <td>2.551317</td>\n",
       "      <td>0.391925</td>\n",
       "      <td>19</td>\n",
       "      <td>109</td>\n",
       "      <td>{'max_depth': 19, 'n_estimators': 109}</td>\n",
       "      <td>0.794091</td>\n",
       "      <td>0.798081</td>\n",
       "      <td>0.794242</td>\n",
       "      <td>0.795471</td>\n",
       "      <td>0.001846</td>\n",
       "      <td>3</td>\n",
       "      <td>0.912197</td>\n",
       "      <td>0.912879</td>\n",
       "      <td>0.915227</td>\n",
       "      <td>0.913434</td>\n",
       "      <td>0.001298</td>\n",
       "    </tr>\n",
       "    <tr>\n",
       "      <th>24</th>\n",
       "      <td>19.145507</td>\n",
       "      <td>0.144305</td>\n",
       "      <td>3.280847</td>\n",
       "      <td>0.725761</td>\n",
       "      <td>20</td>\n",
       "      <td>111</td>\n",
       "      <td>{'max_depth': 20, 'n_estimators': 111}</td>\n",
       "      <td>0.794192</td>\n",
       "      <td>0.796919</td>\n",
       "      <td>0.794747</td>\n",
       "      <td>0.795286</td>\n",
       "      <td>0.001177</td>\n",
       "      <td>4</td>\n",
       "      <td>0.928763</td>\n",
       "      <td>0.928687</td>\n",
       "      <td>0.930328</td>\n",
       "      <td>0.929259</td>\n",
       "      <td>0.000757</td>\n",
       "    </tr>\n",
       "    <tr>\n",
       "      <th>11</th>\n",
       "      <td>15.985056</td>\n",
       "      <td>0.113623</td>\n",
       "      <td>2.356929</td>\n",
       "      <td>0.099962</td>\n",
       "      <td>20</td>\n",
       "      <td>100</td>\n",
       "      <td>{'max_depth': 20, 'n_estimators': 100}</td>\n",
       "      <td>0.794192</td>\n",
       "      <td>0.796616</td>\n",
       "      <td>0.794293</td>\n",
       "      <td>0.795034</td>\n",
       "      <td>0.001120</td>\n",
       "      <td>5</td>\n",
       "      <td>0.927778</td>\n",
       "      <td>0.928535</td>\n",
       "      <td>0.930177</td>\n",
       "      <td>0.928830</td>\n",
       "      <td>0.001001</td>\n",
       "    </tr>\n",
       "  </tbody>\n",
       "</table>\n",
       "</div>"
      ],
      "text/plain": [
       "    mean_fit_time  std_fit_time  mean_score_time  std_score_time  \\\n",
       "7       16.675883      0.394455         2.599996        0.140616   \n",
       "19      15.070471      0.383526         2.629664        0.136685   \n",
       "4       16.315252      0.318128         2.551317        0.391925   \n",
       "24      19.145507      0.144305         3.280847        0.725761   \n",
       "11      15.985056      0.113623         2.356929        0.099962   \n",
       "\n",
       "   param_max_depth param_n_estimators                                  params  \\\n",
       "7               21                105  {'max_depth': 21, 'n_estimators': 105}   \n",
       "19              21                 94   {'max_depth': 21, 'n_estimators': 94}   \n",
       "4               19                109  {'max_depth': 19, 'n_estimators': 109}   \n",
       "24              20                111  {'max_depth': 20, 'n_estimators': 111}   \n",
       "11              20                100  {'max_depth': 20, 'n_estimators': 100}   \n",
       "\n",
       "    split0_test_score  split1_test_score  split2_test_score  mean_test_score  \\\n",
       "7            0.796515           0.798939           0.796465         0.797306   \n",
       "19           0.796667           0.798990           0.795808         0.797155   \n",
       "4            0.794091           0.798081           0.794242         0.795471   \n",
       "24           0.794192           0.796919           0.794747         0.795286   \n",
       "11           0.794192           0.796616           0.794293         0.795034   \n",
       "\n",
       "    std_test_score  rank_test_score  split0_train_score  split1_train_score  \\\n",
       "7         0.001155                1            0.940379            0.941515   \n",
       "19        0.001344                2            0.940253            0.941591   \n",
       "4         0.001846                3            0.912197            0.912879   \n",
       "24        0.001177                4            0.928763            0.928687   \n",
       "11        0.001120                5            0.927778            0.928535   \n",
       "\n",
       "    split2_train_score  mean_train_score  std_train_score  \n",
       "7             0.942778          0.941557         0.000980  \n",
       "19            0.943056          0.941633         0.001145  \n",
       "4             0.915227          0.913434         0.001298  \n",
       "24            0.930328          0.929259         0.000757  \n",
       "11            0.930177          0.928830         0.001001  "
      ]
     },
     "execution_count": 20,
     "metadata": {},
     "output_type": "execute_result"
    }
   ],
   "source": [
    "pd.DataFrame(search_et.cv_results_).sort_values(by='rank_test_score').head()"
   ]
  },
  {
   "cell_type": "code",
   "execution_count": 28,
   "metadata": {},
   "outputs": [
    {
     "name": "stderr",
     "output_type": "stream",
     "text": [
      "C:\\Users\\danie\\Anaconda3\\lib\\site-packages\\sklearn\\ensemble\\bagging.py:622: DataConversionWarning: A column-vector y was passed when a 1d array was expected. Please change the shape of y to (n_samples, ), for example using ravel().\n",
      "  y = column_or_1d(y, warn=True)\n",
      "C:\\Users\\danie\\Anaconda3\\lib\\site-packages\\sklearn\\ensemble\\bagging.py:622: DataConversionWarning: A column-vector y was passed when a 1d array was expected. Please change the shape of y to (n_samples, ), for example using ravel().\n",
      "  y = column_or_1d(y, warn=True)\n",
      "C:\\Users\\danie\\Anaconda3\\lib\\site-packages\\sklearn\\ensemble\\bagging.py:622: DataConversionWarning: A column-vector y was passed when a 1d array was expected. Please change the shape of y to (n_samples, ), for example using ravel().\n",
      "  y = column_or_1d(y, warn=True)\n",
      "C:\\Users\\danie\\Anaconda3\\lib\\site-packages\\sklearn\\ensemble\\bagging.py:622: DataConversionWarning: A column-vector y was passed when a 1d array was expected. Please change the shape of y to (n_samples, ), for example using ravel().\n",
      "  y = column_or_1d(y, warn=True)\n",
      "C:\\Users\\danie\\Anaconda3\\lib\\site-packages\\sklearn\\ensemble\\bagging.py:622: DataConversionWarning: A column-vector y was passed when a 1d array was expected. Please change the shape of y to (n_samples, ), for example using ravel().\n",
      "  y = column_or_1d(y, warn=True)\n",
      "C:\\Users\\danie\\Anaconda3\\lib\\site-packages\\sklearn\\utils\\deprecation.py:125: FutureWarning: You are accessing a training score ('train_score'), which will not be available by default any more in 0.21. If you need training scores, please set return_train_score=True\n",
      "  warnings.warn(*warn_args, **warn_kwargs)\n"
     ]
    },
    {
     "data": {
      "text/plain": [
       "{'fit_time': array([31.64811659, 37.66581678, 37.23910594, 35.51166868, 35.36774278]),\n",
       " 'score_time': array([2.44427061, 2.8417089 , 2.20325089, 2.28152752, 2.40769744]),\n",
       " 'test_score': array([0.81213703, 0.80725528, 0.81010101, 0.80749158, 0.80653309]),\n",
       " 'train_score': array([0.91045687, 0.91228772, 0.91165825, 0.91188973, 0.9146711 ])}"
      ]
     },
     "execution_count": 28,
     "metadata": {},
     "output_type": "execute_result"
    }
   ],
   "source": [
    "from sklearn.ensemble import BaggingClassifier\n",
    "bag_model=BaggingClassifier(base_estimator=model,n_estimators=5,random_state=42)\n",
    "cv_results_bag = cross_validate(bag_model, X, y, cv=5)\n",
    "cv_results_bag"
   ]
  },
  {
   "cell_type": "code",
   "execution_count": 29,
   "metadata": {},
   "outputs": [
    {
     "data": {
      "text/plain": [
       "0.8087035972031265"
      ]
     },
     "execution_count": 29,
     "metadata": {},
     "output_type": "execute_result"
    }
   ],
   "source": [
    "cv_results_bag['test_score'].mean()"
   ]
  },
  {
   "cell_type": "code",
   "execution_count": 25,
   "metadata": {},
   "outputs": [
    {
     "name": "stderr",
     "output_type": "stream",
     "text": [
      "C:\\Users\\danie\\Anaconda3\\lib\\site-packages\\sklearn\\utils\\validation.py:761: DataConversionWarning: A column-vector y was passed when a 1d array was expected. Please change the shape of y to (n_samples, ), for example using ravel().\n",
      "  y = column_or_1d(y, warn=True)\n"
     ]
    },
    {
     "data": {
      "text/plain": [
       "GradientBoostingClassifier(criterion='friedman_mse', init=None,\n",
       "              learning_rate=0.175, loss='deviance', max_depth=6,\n",
       "              max_features=None, max_leaf_nodes=None,\n",
       "              min_impurity_decrease=0.0, min_impurity_split=None,\n",
       "              min_samples_leaf=1, min_samples_split=2,\n",
       "              min_weight_fraction_leaf=0.0, n_estimators=147,\n",
       "              n_iter_no_change=None, presort='auto', random_state=42,\n",
       "              subsample=1.0, tol=0.0001, validation_fraction=0.1,\n",
       "              verbose=0, warm_start=False)"
      ]
     },
     "execution_count": 25,
     "metadata": {},
     "output_type": "execute_result"
    }
   ],
   "source": [
    "from sklearn.ensemble import GradientBoostingClassifier\n",
    "model_gbc=GradientBoostingClassifier(max_depth=6,n_estimators=147,learning_rate=0.175,random_state=42)\n",
    "model_gbc.fit(X,y)"
   ]
  },
  {
   "cell_type": "code",
   "execution_count": 26,
   "metadata": {},
   "outputs": [],
   "source": [
    "from sklearn.ensemble import VotingClassifier\n",
    "model_et=search_et.best_estimator_\n",
    "vc1 = VotingClassifier(estimators=[('rf', model), ('et', model_et),('gbc', model_gbc)], voting='soft',weights=[2,1,1])"
   ]
  },
  {
   "cell_type": "code",
   "execution_count": 27,
   "metadata": {},
   "outputs": [
    {
     "name": "stderr",
     "output_type": "stream",
     "text": [
      "C:\\Users\\danie\\Anaconda3\\lib\\site-packages\\sklearn\\preprocessing\\label.py:219: DataConversionWarning: A column-vector y was passed when a 1d array was expected. Please change the shape of y to (n_samples, ), for example using ravel().\n",
      "  y = column_or_1d(y, warn=True)\n",
      "C:\\Users\\danie\\Anaconda3\\lib\\site-packages\\sklearn\\preprocessing\\label.py:252: DataConversionWarning: A column-vector y was passed when a 1d array was expected. Please change the shape of y to (n_samples, ), for example using ravel().\n",
      "  y = column_or_1d(y, warn=True)\n",
      "C:\\Users\\danie\\Anaconda3\\lib\\site-packages\\sklearn\\preprocessing\\label.py:219: DataConversionWarning: A column-vector y was passed when a 1d array was expected. Please change the shape of y to (n_samples, ), for example using ravel().\n",
      "  y = column_or_1d(y, warn=True)\n",
      "C:\\Users\\danie\\Anaconda3\\lib\\site-packages\\sklearn\\preprocessing\\label.py:252: DataConversionWarning: A column-vector y was passed when a 1d array was expected. Please change the shape of y to (n_samples, ), for example using ravel().\n",
      "  y = column_or_1d(y, warn=True)\n",
      "C:\\Users\\danie\\Anaconda3\\lib\\site-packages\\sklearn\\preprocessing\\label.py:219: DataConversionWarning: A column-vector y was passed when a 1d array was expected. Please change the shape of y to (n_samples, ), for example using ravel().\n",
      "  y = column_or_1d(y, warn=True)\n",
      "C:\\Users\\danie\\Anaconda3\\lib\\site-packages\\sklearn\\preprocessing\\label.py:252: DataConversionWarning: A column-vector y was passed when a 1d array was expected. Please change the shape of y to (n_samples, ), for example using ravel().\n",
      "  y = column_or_1d(y, warn=True)\n",
      "C:\\Users\\danie\\Anaconda3\\lib\\site-packages\\sklearn\\utils\\deprecation.py:125: FutureWarning: You are accessing a training score ('train_score'), which will not be available by default any more in 0.21. If you need training scores, please set return_train_score=True\n",
      "  warnings.warn(*warn_args, **warn_kwargs)\n"
     ]
    },
    {
     "data": {
      "text/plain": [
       "{'fit_time': array([199.71453476, 198.47064114, 197.0310421 ]),\n",
       " 'score_time': array([2.14531398, 1.96343255, 2.09928727]),\n",
       " 'test_score': array([0.80530303, 0.80757576, 0.80257576]),\n",
       " 'train_score': array([0.93984848, 0.94159091, 0.94204545])}"
      ]
     },
     "execution_count": 27,
     "metadata": {},
     "output_type": "execute_result"
    }
   ],
   "source": [
    "cv_results_vc = cross_validate(vc1, X, y, cv=3)\n",
    "cv_results_vc"
   ]
  },
  {
   "cell_type": "code",
   "execution_count": 33,
   "metadata": {},
   "outputs": [
    {
     "name": "stderr",
     "output_type": "stream",
     "text": [
      "C:\\Users\\danie\\Anaconda3\\lib\\site-packages\\sklearn\\preprocessing\\label.py:219: DataConversionWarning: A column-vector y was passed when a 1d array was expected. Please change the shape of y to (n_samples, ), for example using ravel().\n",
      "  y = column_or_1d(y, warn=True)\n",
      "C:\\Users\\danie\\Anaconda3\\lib\\site-packages\\sklearn\\preprocessing\\label.py:252: DataConversionWarning: A column-vector y was passed when a 1d array was expected. Please change the shape of y to (n_samples, ), for example using ravel().\n",
      "  y = column_or_1d(y, warn=True)\n",
      "C:\\Users\\danie\\Anaconda3\\lib\\site-packages\\sklearn\\preprocessing\\label.py:219: DataConversionWarning: A column-vector y was passed when a 1d array was expected. Please change the shape of y to (n_samples, ), for example using ravel().\n",
      "  y = column_or_1d(y, warn=True)\n",
      "C:\\Users\\danie\\Anaconda3\\lib\\site-packages\\sklearn\\preprocessing\\label.py:252: DataConversionWarning: A column-vector y was passed when a 1d array was expected. Please change the shape of y to (n_samples, ), for example using ravel().\n",
      "  y = column_or_1d(y, warn=True)\n",
      "C:\\Users\\danie\\Anaconda3\\lib\\site-packages\\sklearn\\preprocessing\\label.py:219: DataConversionWarning: A column-vector y was passed when a 1d array was expected. Please change the shape of y to (n_samples, ), for example using ravel().\n",
      "  y = column_or_1d(y, warn=True)\n",
      "C:\\Users\\danie\\Anaconda3\\lib\\site-packages\\sklearn\\preprocessing\\label.py:252: DataConversionWarning: A column-vector y was passed when a 1d array was expected. Please change the shape of y to (n_samples, ), for example using ravel().\n",
      "  y = column_or_1d(y, warn=True)\n",
      "C:\\Users\\danie\\Anaconda3\\lib\\site-packages\\sklearn\\preprocessing\\label.py:219: DataConversionWarning: A column-vector y was passed when a 1d array was expected. Please change the shape of y to (n_samples, ), for example using ravel().\n",
      "  y = column_or_1d(y, warn=True)\n",
      "C:\\Users\\danie\\Anaconda3\\lib\\site-packages\\sklearn\\preprocessing\\label.py:252: DataConversionWarning: A column-vector y was passed when a 1d array was expected. Please change the shape of y to (n_samples, ), for example using ravel().\n",
      "  y = column_or_1d(y, warn=True)\n",
      "C:\\Users\\danie\\Anaconda3\\lib\\site-packages\\sklearn\\preprocessing\\label.py:219: DataConversionWarning: A column-vector y was passed when a 1d array was expected. Please change the shape of y to (n_samples, ), for example using ravel().\n",
      "  y = column_or_1d(y, warn=True)\n",
      "C:\\Users\\danie\\Anaconda3\\lib\\site-packages\\sklearn\\preprocessing\\label.py:252: DataConversionWarning: A column-vector y was passed when a 1d array was expected. Please change the shape of y to (n_samples, ), for example using ravel().\n",
      "  y = column_or_1d(y, warn=True)\n",
      "C:\\Users\\danie\\Anaconda3\\lib\\site-packages\\sklearn\\utils\\deprecation.py:125: FutureWarning: You are accessing a training score ('train_score'), which will not be available by default any more in 0.21. If you need training scores, please set return_train_score=True\n",
      "  warnings.warn(*warn_args, **warn_kwargs)\n"
     ]
    },
    {
     "data": {
      "text/plain": [
       "{'fit_time': array([20.89116287, 22.09659958, 24.35471725, 27.42200637, 26.15644979]),\n",
       " 'score_time': array([0.89458656, 0.95331717, 0.93758845, 0.88291621, 1.47725701]),\n",
       " 'test_score': array([0.81516707, 0.80809696, 0.81102694, 0.80858586, 0.80981647]),\n",
       " 'train_score': array([0.9523559 , 0.95300827, 0.95324074, 0.95208333, 0.95435798])}"
      ]
     },
     "execution_count": 33,
     "metadata": {},
     "output_type": "execute_result"
    }
   ],
   "source": [
    "from sklearn.ensemble import VotingClassifier\n",
    "model_rf2=search_rf.best_estimator_\n",
    "vc2=VotingClassifier(estimators=[('rf1', model), ('rf2', model_rf2)], voting='soft',weights=[1,1])\n",
    "cv_results_vc2 = cross_validate(vc2, X, y, cv=5)\n",
    "cv_results_vc2"
   ]
  },
  {
   "cell_type": "code",
   "execution_count": 34,
   "metadata": {},
   "outputs": [
    {
     "data": {
      "text/plain": [
       "0.8105386594090879"
      ]
     },
     "execution_count": 34,
     "metadata": {},
     "output_type": "execute_result"
    }
   ],
   "source": [
    "cv_results_vc2['test_score'].mean()"
   ]
  },
  {
   "cell_type": "code",
   "execution_count": 44,
   "metadata": {},
   "outputs": [
    {
     "name": "stderr",
     "output_type": "stream",
     "text": [
      "C:\\Users\\danie\\Anaconda3\\lib\\site-packages\\sklearn\\preprocessing\\label.py:219: DataConversionWarning: A column-vector y was passed when a 1d array was expected. Please change the shape of y to (n_samples, ), for example using ravel().\n",
      "  y = column_or_1d(y, warn=True)\n",
      "C:\\Users\\danie\\Anaconda3\\lib\\site-packages\\sklearn\\preprocessing\\label.py:252: DataConversionWarning: A column-vector y was passed when a 1d array was expected. Please change the shape of y to (n_samples, ), for example using ravel().\n",
      "  y = column_or_1d(y, warn=True)\n"
     ]
    },
    {
     "data": {
      "text/plain": [
       "VotingClassifier(estimators=[('rf1', RandomForestClassifier(bootstrap=True, class_weight=None, criterion='gini',\n",
       "            max_depth=20, max_features='auto', max_leaf_nodes=None,\n",
       "            min_impurity_decrease=0.0, min_impurity_split=None,\n",
       "            min_samples_leaf=1, min_samples_split=2,\n",
       "            min_wei...imators=141, n_jobs=-1,\n",
       "            oob_score=False, random_state=42, verbose=0, warm_start=False))],\n",
       "         flatten_transform=None, n_jobs=None, voting='soft',\n",
       "         weights=[1, 1])"
      ]
     },
     "execution_count": 44,
     "metadata": {},
     "output_type": "execute_result"
    }
   ],
   "source": [
    "vc2.fit(X,y)"
   ]
  },
  {
   "cell_type": "code",
   "execution_count": 36,
   "metadata": {},
   "outputs": [
    {
     "data": {
      "text/html": [
       "<div>\n",
       "<style scoped>\n",
       "    .dataframe tbody tr th:only-of-type {\n",
       "        vertical-align: middle;\n",
       "    }\n",
       "\n",
       "    .dataframe tbody tr th {\n",
       "        vertical-align: top;\n",
       "    }\n",
       "\n",
       "    .dataframe thead th {\n",
       "        text-align: right;\n",
       "    }\n",
       "</style>\n",
       "<table border=\"1\" class=\"dataframe\">\n",
       "  <thead>\n",
       "    <tr style=\"text-align: right;\">\n",
       "      <th></th>\n",
       "      <th>basin</th>\n",
       "      <th>region</th>\n",
       "      <th>public_meeting</th>\n",
       "      <th>scheme_management</th>\n",
       "      <th>permit</th>\n",
       "      <th>extraction_type</th>\n",
       "      <th>extraction_type_group</th>\n",
       "      <th>extraction_type_class</th>\n",
       "      <th>management</th>\n",
       "      <th>management_group</th>\n",
       "      <th>...</th>\n",
       "      <th>waterpoint_type</th>\n",
       "      <th>waterpoint_type_group</th>\n",
       "      <th>amount_tsh</th>\n",
       "      <th>gps_height</th>\n",
       "      <th>new_longitude</th>\n",
       "      <th>new_latitude</th>\n",
       "      <th>region_code</th>\n",
       "      <th>district_code</th>\n",
       "      <th>population</th>\n",
       "      <th>construction_year</th>\n",
       "    </tr>\n",
       "  </thead>\n",
       "  <tbody>\n",
       "    <tr>\n",
       "      <th>0</th>\n",
       "      <td>0.0</td>\n",
       "      <td>-0.727273</td>\n",
       "      <td>0.0</td>\n",
       "      <td>2.25</td>\n",
       "      <td>0.0</td>\n",
       "      <td>1.00</td>\n",
       "      <td>1.333333</td>\n",
       "      <td>1.0</td>\n",
       "      <td>8.0</td>\n",
       "      <td>3.0</td>\n",
       "      <td>...</td>\n",
       "      <td>1.0</td>\n",
       "      <td>2.0</td>\n",
       "      <td>0.0</td>\n",
       "      <td>1.233276</td>\n",
       "      <td>0.097800</td>\n",
       "      <td>0.184468</td>\n",
       "      <td>0.750000</td>\n",
       "      <td>0.000000</td>\n",
       "      <td>1.376744</td>\n",
       "      <td>0.012974</td>\n",
       "    </tr>\n",
       "    <tr>\n",
       "      <th>1</th>\n",
       "      <td>-0.4</td>\n",
       "      <td>0.545455</td>\n",
       "      <td>0.0</td>\n",
       "      <td>0.00</td>\n",
       "      <td>0.0</td>\n",
       "      <td>-0.25</td>\n",
       "      <td>-0.333333</td>\n",
       "      <td>-0.5</td>\n",
       "      <td>0.0</td>\n",
       "      <td>0.0</td>\n",
       "      <td>...</td>\n",
       "      <td>-0.5</td>\n",
       "      <td>0.0</td>\n",
       "      <td>0.0</td>\n",
       "      <td>0.909608</td>\n",
       "      <td>0.447449</td>\n",
       "      <td>0.328391</td>\n",
       "      <td>-0.833333</td>\n",
       "      <td>-0.333333</td>\n",
       "      <td>1.279070</td>\n",
       "      <td>0.006986</td>\n",
       "    </tr>\n",
       "    <tr>\n",
       "      <th>2</th>\n",
       "      <td>0.0</td>\n",
       "      <td>0.727273</td>\n",
       "      <td>0.0</td>\n",
       "      <td>0.00</td>\n",
       "      <td>1.0</td>\n",
       "      <td>1.00</td>\n",
       "      <td>1.333333</td>\n",
       "      <td>1.0</td>\n",
       "      <td>0.0</td>\n",
       "      <td>0.0</td>\n",
       "      <td>...</td>\n",
       "      <td>1.0</td>\n",
       "      <td>2.0</td>\n",
       "      <td>0.0</td>\n",
       "      <td>0.908092</td>\n",
       "      <td>-0.036063</td>\n",
       "      <td>0.003309</td>\n",
       "      <td>0.083333</td>\n",
       "      <td>-0.333333</td>\n",
       "      <td>2.209302</td>\n",
       "      <td>0.011976</td>\n",
       "    </tr>\n",
       "    <tr>\n",
       "      <th>3</th>\n",
       "      <td>-0.2</td>\n",
       "      <td>0.363636</td>\n",
       "      <td>1.0</td>\n",
       "      <td>0.00</td>\n",
       "      <td>0.0</td>\n",
       "      <td>1.00</td>\n",
       "      <td>1.333333</td>\n",
       "      <td>1.0</td>\n",
       "      <td>0.0</td>\n",
       "      <td>0.0</td>\n",
       "      <td>...</td>\n",
       "      <td>1.0</td>\n",
       "      <td>2.0</td>\n",
       "      <td>0.0</td>\n",
       "      <td>-0.077317</td>\n",
       "      <td>0.806168</td>\n",
       "      <td>-0.843246</td>\n",
       "      <td>5.666667</td>\n",
       "      <td>13.333333</td>\n",
       "      <td>1.046512</td>\n",
       "      <td>0.000499</td>\n",
       "    </tr>\n",
       "    <tr>\n",
       "      <th>4</th>\n",
       "      <td>-0.2</td>\n",
       "      <td>-0.090909</td>\n",
       "      <td>1.0</td>\n",
       "      <td>1.25</td>\n",
       "      <td>0.0</td>\n",
       "      <td>-0.25</td>\n",
       "      <td>-0.333333</td>\n",
       "      <td>-0.5</td>\n",
       "      <td>4.0</td>\n",
       "      <td>0.0</td>\n",
       "      <td>...</td>\n",
       "      <td>-0.5</td>\n",
       "      <td>0.0</td>\n",
       "      <td>25.0</td>\n",
       "      <td>0.675384</td>\n",
       "      <td>0.024928</td>\n",
       "      <td>-1.136994</td>\n",
       "      <td>-0.166667</td>\n",
       "      <td>0.000000</td>\n",
       "      <td>0.162791</td>\n",
       "      <td>0.006986</td>\n",
       "    </tr>\n",
       "  </tbody>\n",
       "</table>\n",
       "<p>5 rows × 29 columns</p>\n",
       "</div>"
      ],
      "text/plain": [
       "   basin    region  public_meeting  scheme_management  permit  \\\n",
       "0    0.0 -0.727273             0.0               2.25     0.0   \n",
       "1   -0.4  0.545455             0.0               0.00     0.0   \n",
       "2    0.0  0.727273             0.0               0.00     1.0   \n",
       "3   -0.2  0.363636             1.0               0.00     0.0   \n",
       "4   -0.2 -0.090909             1.0               1.25     0.0   \n",
       "\n",
       "   extraction_type  extraction_type_group  extraction_type_class  management  \\\n",
       "0             1.00               1.333333                    1.0         8.0   \n",
       "1            -0.25              -0.333333                   -0.5         0.0   \n",
       "2             1.00               1.333333                    1.0         0.0   \n",
       "3             1.00               1.333333                    1.0         0.0   \n",
       "4            -0.25              -0.333333                   -0.5         4.0   \n",
       "\n",
       "   management_group  ...  waterpoint_type  waterpoint_type_group  amount_tsh  \\\n",
       "0               3.0  ...              1.0                    2.0         0.0   \n",
       "1               0.0  ...             -0.5                    0.0         0.0   \n",
       "2               0.0  ...              1.0                    2.0         0.0   \n",
       "3               0.0  ...              1.0                    2.0         0.0   \n",
       "4               0.0  ...             -0.5                    0.0        25.0   \n",
       "\n",
       "   gps_height  new_longitude  new_latitude  region_code  district_code  \\\n",
       "0    1.233276       0.097800      0.184468     0.750000       0.000000   \n",
       "1    0.909608       0.447449      0.328391    -0.833333      -0.333333   \n",
       "2    0.908092      -0.036063      0.003309     0.083333      -0.333333   \n",
       "3   -0.077317       0.806168     -0.843246     5.666667      13.333333   \n",
       "4    0.675384       0.024928     -1.136994    -0.166667       0.000000   \n",
       "\n",
       "   population  construction_year  \n",
       "0    1.376744           0.012974  \n",
       "1    1.279070           0.006986  \n",
       "2    2.209302           0.011976  \n",
       "3    1.046512           0.000499  \n",
       "4    0.162791           0.006986  \n",
       "\n",
       "[5 rows x 29 columns]"
      ]
     },
     "execution_count": 36,
     "metadata": {},
     "output_type": "execute_result"
    }
   ],
   "source": [
    "test=pd.read_csv('C:/Users/danie/Desktop/test_features.csv')\n",
    "clean_region(test)\n",
    "clean_long_lat(test)\n",
    "X_test=test[features].copy()\n",
    "X_test=process_data(X_test)\n",
    "X_test.head()"
   ]
  },
  {
   "cell_type": "code",
   "execution_count": 37,
   "metadata": {},
   "outputs": [],
   "source": [
    "reverse_dict={v: k for k, v in y_dict.items()}\n",
    "def subber(frame,y_pred):\n",
    "    temp_frame=pd.DataFrame(frame.copy()['id'])\n",
    "    temp_frame['status_group']=y_pred\n",
    "    temp_frame['status_group']=temp_frame['status_group'].map(reverse_dict)\n",
    "\n",
    "    return temp_frame"
   ]
  },
  {
   "cell_type": "code",
   "execution_count": 45,
   "metadata": {},
   "outputs": [
    {
     "data": {
      "text/html": [
       "<div>\n",
       "<style scoped>\n",
       "    .dataframe tbody tr th:only-of-type {\n",
       "        vertical-align: middle;\n",
       "    }\n",
       "\n",
       "    .dataframe tbody tr th {\n",
       "        vertical-align: top;\n",
       "    }\n",
       "\n",
       "    .dataframe thead th {\n",
       "        text-align: right;\n",
       "    }\n",
       "</style>\n",
       "<table border=\"1\" class=\"dataframe\">\n",
       "  <thead>\n",
       "    <tr style=\"text-align: right;\">\n",
       "      <th></th>\n",
       "      <th>id</th>\n",
       "      <th>status_group</th>\n",
       "    </tr>\n",
       "  </thead>\n",
       "  <tbody>\n",
       "    <tr>\n",
       "      <th>0</th>\n",
       "      <td>50785</td>\n",
       "      <td>functional</td>\n",
       "    </tr>\n",
       "    <tr>\n",
       "      <th>1</th>\n",
       "      <td>51630</td>\n",
       "      <td>functional</td>\n",
       "    </tr>\n",
       "    <tr>\n",
       "      <th>2</th>\n",
       "      <td>17168</td>\n",
       "      <td>functional</td>\n",
       "    </tr>\n",
       "    <tr>\n",
       "      <th>3</th>\n",
       "      <td>45559</td>\n",
       "      <td>non functional</td>\n",
       "    </tr>\n",
       "    <tr>\n",
       "      <th>4</th>\n",
       "      <td>49871</td>\n",
       "      <td>functional</td>\n",
       "    </tr>\n",
       "  </tbody>\n",
       "</table>\n",
       "</div>"
      ],
      "text/plain": [
       "      id    status_group\n",
       "0  50785      functional\n",
       "1  51630      functional\n",
       "2  17168      functional\n",
       "3  45559  non functional\n",
       "4  49871      functional"
      ]
     },
     "execution_count": 45,
     "metadata": {},
     "output_type": "execute_result"
    }
   ],
   "source": [
    "y_pred_new=vc2.predict(X_test)\n",
    "sub_df4 = subber(test,y_pred_new)\n",
    "sub_df4.head()"
   ]
  },
  {
   "cell_type": "code",
   "execution_count": 46,
   "metadata": {},
   "outputs": [],
   "source": [
    "sub_df4.to_csv('C:/Users/danie/Desktop/sub_csv4',index=False)\n"
   ]
  },
  {
   "cell_type": "code",
   "execution_count": 28,
   "metadata": {},
   "outputs": [
    {
     "name": "stderr",
     "output_type": "stream",
     "text": [
      "C:\\Users\\danie\\Anaconda3\\lib\\site-packages\\sklearn\\ensemble\\bagging.py:622: DataConversionWarning: A column-vector y was passed when a 1d array was expected. Please change the shape of y to (n_samples, ), for example using ravel().\n",
      "  y = column_or_1d(y, warn=True)\n",
      "C:\\Users\\danie\\Anaconda3\\lib\\site-packages\\sklearn\\ensemble\\bagging.py:622: DataConversionWarning: A column-vector y was passed when a 1d array was expected. Please change the shape of y to (n_samples, ), for example using ravel().\n",
      "  y = column_or_1d(y, warn=True)\n",
      "C:\\Users\\danie\\Anaconda3\\lib\\site-packages\\sklearn\\ensemble\\bagging.py:622: DataConversionWarning: A column-vector y was passed when a 1d array was expected. Please change the shape of y to (n_samples, ), for example using ravel().\n",
      "  y = column_or_1d(y, warn=True)\n",
      "C:\\Users\\danie\\Anaconda3\\lib\\site-packages\\sklearn\\utils\\deprecation.py:125: FutureWarning: You are accessing a training score ('train_score'), which will not be available by default any more in 0.21. If you need training scores, please set return_train_score=True\n",
      "  warnings.warn(*warn_args, **warn_kwargs)\n"
     ]
    },
    {
     "data": {
      "text/plain": [
       "{'fit_time': array([869.23912406, 839.24491215, 836.7302084 ]),\n",
       " 'score_time': array([10.56511188, 10.79598475, 10.80519962]),\n",
       " 'test_score': array([0.80409091, 0.80626263, 0.80191919]),\n",
       " 'train_score': array([0.90717172, 0.90762626, 0.9089899 ])}"
      ]
     },
     "execution_count": 28,
     "metadata": {},
     "output_type": "execute_result"
    }
   ],
   "source": [
    "bag_model2=BaggingClassifier(base_estimator=vc1,n_estimators=5,random_state=42)\n",
    "cv_results_bag2 = cross_validate(bag_model2, X, y, cv=3)\n",
    "cv_results_bag2"
   ]
  },
  {
   "cell_type": "code",
   "execution_count": 30,
   "metadata": {},
   "outputs": [
    {
     "name": "stdout",
     "output_type": "stream",
     "text": [
      "Fitting 5 folds for each of 10 candidates, totalling 50 fits\n"
     ]
    },
    {
     "name": "stderr",
     "output_type": "stream",
     "text": [
      "[Parallel(n_jobs=-1)]: Using backend LokyBackend with 4 concurrent workers.\n",
      "[Parallel(n_jobs=-1)]: Done   5 tasks      | elapsed:  2.0min\n",
      "[Parallel(n_jobs=-1)]: Done  10 tasks      | elapsed:  3.0min\n",
      "[Parallel(n_jobs=-1)]: Done  17 tasks      | elapsed:  4.8min\n",
      "[Parallel(n_jobs=-1)]: Done  24 tasks      | elapsed:  5.8min\n",
      "[Parallel(n_jobs=-1)]: Done  33 tasks      | elapsed:  8.4min\n",
      "[Parallel(n_jobs=-1)]: Done  42 tasks      | elapsed: 10.2min\n",
      "[Parallel(n_jobs=-1)]: Done  50 out of  50 | elapsed: 11.6min finished\n",
      "C:\\Users\\danie\\Anaconda3\\lib\\site-packages\\sklearn\\model_selection\\_search.py:740: DataConversionWarning: A column-vector y was passed when a 1d array was expected. Please change the shape of y to (n_samples,), for example using ravel().\n",
      "  self.best_estimator_.fit(X, y, **fit_params)\n"
     ]
    },
    {
     "data": {
      "text/plain": [
       "RandomizedSearchCV(cv=5, error_score='raise-deprecating',\n",
       "          estimator=RandomForestClassifier(bootstrap=True, class_weight=None, criterion='entropy',\n",
       "            max_depth=None, max_features='auto', max_leaf_nodes=None,\n",
       "            min_impurity_decrease=0.0, min_impurity_split=None,\n",
       "            min_samples_leaf=1, min_samples_split=2,\n",
       "            min_weight_fraction_leaf=0.0, n_estimators='warn', n_jobs=-1,\n",
       "            oob_score=False, random_state=42, verbose=0, warm_start=False),\n",
       "          fit_params=None, iid='warn', n_iter=10, n_jobs=-1,\n",
       "          param_distributions={'max_depth': <scipy.stats._distn_infrastructure.rv_frozen object at 0x00000227081740F0>, 'n_estimators': <scipy.stats._distn_infrastructure.rv_frozen object at 0x0000022708174DD8>},\n",
       "          pre_dispatch='2*n_jobs', random_state=None, refit=True,\n",
       "          return_train_score=True, scoring='accuracy', verbose=10)"
      ]
     },
     "execution_count": 30,
     "metadata": {},
     "output_type": "execute_result"
    }
   ],
   "source": [
    "param_distributions_rf = {\n",
    "    #'criterion':['gini','entropy'],\n",
    "  #  'min_samples_split':randint(2,5),\n",
    "   # 'min_samples_leaf':randint(1,4),\n",
    "    'max_depth':randint(17,21),\n",
    " #   'max_features':randint(25,30),\n",
    "    'n_estimators':randint(130,145)\n",
    "}\n",
    "\n",
    "search_rf=RandomizedSearchCV(\n",
    "      estimator=RandomForestClassifier(criterion='entropy',n_jobs=-1,random_state=42),   #max_depth=20\n",
    "      param_distributions=param_distributions_rf,\n",
    "      n_iter=10,\n",
    "      scoring='accuracy',\n",
    "      n_jobs=-1,\n",
    "      cv=5,\n",
    "      verbose=10,\n",
    "      return_train_score=True)\n",
    "\n",
    "search_rf.fit(X,y)"
   ]
  },
  {
   "cell_type": "code",
   "execution_count": 31,
   "metadata": {},
   "outputs": [
    {
     "data": {
      "text/html": [
       "<div>\n",
       "<style scoped>\n",
       "    .dataframe tbody tr th:only-of-type {\n",
       "        vertical-align: middle;\n",
       "    }\n",
       "\n",
       "    .dataframe tbody tr th {\n",
       "        vertical-align: top;\n",
       "    }\n",
       "\n",
       "    .dataframe thead th {\n",
       "        text-align: right;\n",
       "    }\n",
       "</style>\n",
       "<table border=\"1\" class=\"dataframe\">\n",
       "  <thead>\n",
       "    <tr style=\"text-align: right;\">\n",
       "      <th></th>\n",
       "      <th>mean_fit_time</th>\n",
       "      <th>std_fit_time</th>\n",
       "      <th>mean_score_time</th>\n",
       "      <th>std_score_time</th>\n",
       "      <th>param_max_depth</th>\n",
       "      <th>param_n_estimators</th>\n",
       "      <th>params</th>\n",
       "      <th>split0_test_score</th>\n",
       "      <th>split1_test_score</th>\n",
       "      <th>split2_test_score</th>\n",
       "      <th>...</th>\n",
       "      <th>mean_test_score</th>\n",
       "      <th>std_test_score</th>\n",
       "      <th>rank_test_score</th>\n",
       "      <th>split0_train_score</th>\n",
       "      <th>split1_train_score</th>\n",
       "      <th>split2_train_score</th>\n",
       "      <th>split3_train_score</th>\n",
       "      <th>split4_train_score</th>\n",
       "      <th>mean_train_score</th>\n",
       "      <th>std_train_score</th>\n",
       "    </tr>\n",
       "  </thead>\n",
       "  <tbody>\n",
       "    <tr>\n",
       "      <th>1</th>\n",
       "      <td>51.143096</td>\n",
       "      <td>0.286689</td>\n",
       "      <td>1.696038</td>\n",
       "      <td>0.272270</td>\n",
       "      <td>20</td>\n",
       "      <td>141</td>\n",
       "      <td>{'max_depth': 20, 'n_estimators': 141}</td>\n",
       "      <td>0.815840</td>\n",
       "      <td>0.807592</td>\n",
       "      <td>0.809428</td>\n",
       "      <td>...</td>\n",
       "      <td>0.809899</td>\n",
       "      <td>0.003064</td>\n",
       "      <td>1</td>\n",
       "      <td>0.954376</td>\n",
       "      <td>0.954544</td>\n",
       "      <td>0.954440</td>\n",
       "      <td>0.953725</td>\n",
       "      <td>0.955705</td>\n",
       "      <td>0.954558</td>\n",
       "      <td>0.000641</td>\n",
       "    </tr>\n",
       "    <tr>\n",
       "      <th>8</th>\n",
       "      <td>48.451389</td>\n",
       "      <td>0.286307</td>\n",
       "      <td>2.299252</td>\n",
       "      <td>0.521919</td>\n",
       "      <td>20</td>\n",
       "      <td>143</td>\n",
       "      <td>{'max_depth': 20, 'n_estimators': 143}</td>\n",
       "      <td>0.815840</td>\n",
       "      <td>0.806666</td>\n",
       "      <td>0.809343</td>\n",
       "      <td>...</td>\n",
       "      <td>0.809613</td>\n",
       "      <td>0.003228</td>\n",
       "      <td>2</td>\n",
       "      <td>0.954271</td>\n",
       "      <td>0.954776</td>\n",
       "      <td>0.954840</td>\n",
       "      <td>0.953809</td>\n",
       "      <td>0.955642</td>\n",
       "      <td>0.954667</td>\n",
       "      <td>0.000614</td>\n",
       "    </tr>\n",
       "    <tr>\n",
       "      <th>0</th>\n",
       "      <td>47.567206</td>\n",
       "      <td>1.605692</td>\n",
       "      <td>2.000313</td>\n",
       "      <td>0.214017</td>\n",
       "      <td>20</td>\n",
       "      <td>144</td>\n",
       "      <td>{'max_depth': 20, 'n_estimators': 144}</td>\n",
       "      <td>0.816009</td>\n",
       "      <td>0.806919</td>\n",
       "      <td>0.809259</td>\n",
       "      <td>...</td>\n",
       "      <td>0.809579</td>\n",
       "      <td>0.003301</td>\n",
       "      <td>3</td>\n",
       "      <td>0.954292</td>\n",
       "      <td>0.954734</td>\n",
       "      <td>0.954777</td>\n",
       "      <td>0.953830</td>\n",
       "      <td>0.955852</td>\n",
       "      <td>0.954697</td>\n",
       "      <td>0.000672</td>\n",
       "    </tr>\n",
       "    <tr>\n",
       "      <th>9</th>\n",
       "      <td>38.566156</td>\n",
       "      <td>10.484699</td>\n",
       "      <td>1.564799</td>\n",
       "      <td>0.909835</td>\n",
       "      <td>19</td>\n",
       "      <td>136</td>\n",
       "      <td>{'max_depth': 19, 'n_estimators': 136}</td>\n",
       "      <td>0.812810</td>\n",
       "      <td>0.806834</td>\n",
       "      <td>0.810690</td>\n",
       "      <td>...</td>\n",
       "      <td>0.809057</td>\n",
       "      <td>0.002312</td>\n",
       "      <td>4</td>\n",
       "      <td>0.938467</td>\n",
       "      <td>0.939835</td>\n",
       "      <td>0.941162</td>\n",
       "      <td>0.939962</td>\n",
       "      <td>0.942153</td>\n",
       "      <td>0.940316</td>\n",
       "      <td>0.001254</td>\n",
       "    </tr>\n",
       "    <tr>\n",
       "      <th>6</th>\n",
       "      <td>44.579488</td>\n",
       "      <td>0.454898</td>\n",
       "      <td>2.033656</td>\n",
       "      <td>0.390706</td>\n",
       "      <td>18</td>\n",
       "      <td>137</td>\n",
       "      <td>{'max_depth': 18, 'n_estimators': 137}</td>\n",
       "      <td>0.813989</td>\n",
       "      <td>0.805824</td>\n",
       "      <td>0.809848</td>\n",
       "      <td>...</td>\n",
       "      <td>0.808906</td>\n",
       "      <td>0.002849</td>\n",
       "      <td>5</td>\n",
       "      <td>0.924157</td>\n",
       "      <td>0.923567</td>\n",
       "      <td>0.925779</td>\n",
       "      <td>0.925316</td>\n",
       "      <td>0.926645</td>\n",
       "      <td>0.925093</td>\n",
       "      <td>0.001107</td>\n",
       "    </tr>\n",
       "  </tbody>\n",
       "</table>\n",
       "<p>5 rows × 22 columns</p>\n",
       "</div>"
      ],
      "text/plain": [
       "   mean_fit_time  std_fit_time  mean_score_time  std_score_time  \\\n",
       "1      51.143096      0.286689         1.696038        0.272270   \n",
       "8      48.451389      0.286307         2.299252        0.521919   \n",
       "0      47.567206      1.605692         2.000313        0.214017   \n",
       "9      38.566156     10.484699         1.564799        0.909835   \n",
       "6      44.579488      0.454898         2.033656        0.390706   \n",
       "\n",
       "  param_max_depth param_n_estimators                                  params  \\\n",
       "1              20                141  {'max_depth': 20, 'n_estimators': 141}   \n",
       "8              20                143  {'max_depth': 20, 'n_estimators': 143}   \n",
       "0              20                144  {'max_depth': 20, 'n_estimators': 144}   \n",
       "9              19                136  {'max_depth': 19, 'n_estimators': 136}   \n",
       "6              18                137  {'max_depth': 18, 'n_estimators': 137}   \n",
       "\n",
       "   split0_test_score  split1_test_score  split2_test_score  ...  \\\n",
       "1           0.815840           0.807592           0.809428  ...   \n",
       "8           0.815840           0.806666           0.809343  ...   \n",
       "0           0.816009           0.806919           0.809259  ...   \n",
       "9           0.812810           0.806834           0.810690  ...   \n",
       "6           0.813989           0.805824           0.809848  ...   \n",
       "\n",
       "   mean_test_score  std_test_score  rank_test_score  split0_train_score  \\\n",
       "1         0.809899        0.003064                1            0.954376   \n",
       "8         0.809613        0.003228                2            0.954271   \n",
       "0         0.809579        0.003301                3            0.954292   \n",
       "9         0.809057        0.002312                4            0.938467   \n",
       "6         0.808906        0.002849                5            0.924157   \n",
       "\n",
       "   split1_train_score  split2_train_score  split3_train_score  \\\n",
       "1            0.954544            0.954440            0.953725   \n",
       "8            0.954776            0.954840            0.953809   \n",
       "0            0.954734            0.954777            0.953830   \n",
       "9            0.939835            0.941162            0.939962   \n",
       "6            0.923567            0.925779            0.925316   \n",
       "\n",
       "   split4_train_score  mean_train_score  std_train_score  \n",
       "1            0.955705          0.954558         0.000641  \n",
       "8            0.955642          0.954667         0.000614  \n",
       "0            0.955852          0.954697         0.000672  \n",
       "9            0.942153          0.940316         0.001254  \n",
       "6            0.926645          0.925093         0.001107  \n",
       "\n",
       "[5 rows x 22 columns]"
      ]
     },
     "execution_count": 31,
     "metadata": {},
     "output_type": "execute_result"
    }
   ],
   "source": [
    "#best params for entropy are depth 20, estimators 141\n",
    "pd.DataFrame(search_rf.cv_results_).sort_values(by='rank_test_score').head(5)"
   ]
  },
  {
   "cell_type": "code",
   "execution_count": 29,
   "metadata": {},
   "outputs": [
    {
     "data": {
      "text/plain": [
       "29"
      ]
     },
     "execution_count": 29,
     "metadata": {},
     "output_type": "execute_result"
    }
   ],
   "source": [
    "len(X.columns)"
   ]
  },
  {
   "cell_type": "code",
   "execution_count": 21,
   "metadata": {},
   "outputs": [
    {
     "data": {
      "text/html": [
       "<div>\n",
       "<style scoped>\n",
       "    .dataframe tbody tr th:only-of-type {\n",
       "        vertical-align: middle;\n",
       "    }\n",
       "\n",
       "    .dataframe tbody tr th {\n",
       "        vertical-align: top;\n",
       "    }\n",
       "\n",
       "    .dataframe thead th {\n",
       "        text-align: right;\n",
       "    }\n",
       "</style>\n",
       "<table border=\"1\" class=\"dataframe\">\n",
       "  <thead>\n",
       "    <tr style=\"text-align: right;\">\n",
       "      <th></th>\n",
       "      <th>basin</th>\n",
       "      <th>region</th>\n",
       "      <th>public_meeting</th>\n",
       "      <th>scheme_management</th>\n",
       "      <th>permit</th>\n",
       "      <th>extraction_type</th>\n",
       "      <th>extraction_type_group</th>\n",
       "      <th>extraction_type_class</th>\n",
       "      <th>management</th>\n",
       "      <th>management_group</th>\n",
       "      <th>...</th>\n",
       "      <th>waterpoint_type</th>\n",
       "      <th>waterpoint_type_group</th>\n",
       "      <th>amount_tsh</th>\n",
       "      <th>gps_height</th>\n",
       "      <th>new_longitude</th>\n",
       "      <th>new_latitude</th>\n",
       "      <th>region_code</th>\n",
       "      <th>district_code</th>\n",
       "      <th>population</th>\n",
       "      <th>construction_year</th>\n",
       "    </tr>\n",
       "  </thead>\n",
       "  <tbody>\n",
       "    <tr>\n",
       "      <th>0</th>\n",
       "      <td>-0.8</td>\n",
       "      <td>-0.909091</td>\n",
       "      <td>0.0</td>\n",
       "      <td>0.00</td>\n",
       "      <td>-1.0</td>\n",
       "      <td>-0.25</td>\n",
       "      <td>-0.333333</td>\n",
       "      <td>-0.5</td>\n",
       "      <td>0.0</td>\n",
       "      <td>0.0</td>\n",
       "      <td>...</td>\n",
       "      <td>-0.5</td>\n",
       "      <td>0.0</td>\n",
       "      <td>300.00</td>\n",
       "      <td>0.773925</td>\n",
       "      <td>0.007513</td>\n",
       "      <td>-0.927176</td>\n",
       "      <td>-0.083333</td>\n",
       "      <td>0.666667</td>\n",
       "      <td>0.390698</td>\n",
       "      <td>0.006487</td>\n",
       "    </tr>\n",
       "    <tr>\n",
       "      <th>1</th>\n",
       "      <td>-0.6</td>\n",
       "      <td>-0.818182</td>\n",
       "      <td>1.0</td>\n",
       "      <td>0.25</td>\n",
       "      <td>0.0</td>\n",
       "      <td>-0.25</td>\n",
       "      <td>-0.333333</td>\n",
       "      <td>-0.5</td>\n",
       "      <td>1.0</td>\n",
       "      <td>0.0</td>\n",
       "      <td>...</td>\n",
       "      <td>-0.5</td>\n",
       "      <td>0.0</td>\n",
       "      <td>0.00</td>\n",
       "      <td>0.780747</td>\n",
       "      <td>-0.053751</td>\n",
       "      <td>0.551184</td>\n",
       "      <td>0.666667</td>\n",
       "      <td>-0.333333</td>\n",
       "      <td>1.186047</td>\n",
       "      <td>0.011976</td>\n",
       "    </tr>\n",
       "    <tr>\n",
       "      <th>2</th>\n",
       "      <td>-0.4</td>\n",
       "      <td>-0.727273</td>\n",
       "      <td>0.0</td>\n",
       "      <td>0.00</td>\n",
       "      <td>0.0</td>\n",
       "      <td>-0.25</td>\n",
       "      <td>-0.333333</td>\n",
       "      <td>-0.5</td>\n",
       "      <td>0.0</td>\n",
       "      <td>0.0</td>\n",
       "      <td>...</td>\n",
       "      <td>0.0</td>\n",
       "      <td>0.0</td>\n",
       "      <td>1.25</td>\n",
       "      <td>0.240288</td>\n",
       "      <td>0.653248</td>\n",
       "      <td>0.230180</td>\n",
       "      <td>0.750000</td>\n",
       "      <td>0.333333</td>\n",
       "      <td>1.046512</td>\n",
       "      <td>0.011477</td>\n",
       "    </tr>\n",
       "    <tr>\n",
       "      <th>3</th>\n",
       "      <td>-0.2</td>\n",
       "      <td>-0.636364</td>\n",
       "      <td>0.0</td>\n",
       "      <td>0.00</td>\n",
       "      <td>0.0</td>\n",
       "      <td>0.00</td>\n",
       "      <td>0.000000</td>\n",
       "      <td>0.0</td>\n",
       "      <td>0.0</td>\n",
       "      <td>0.0</td>\n",
       "      <td>...</td>\n",
       "      <td>0.0</td>\n",
       "      <td>0.0</td>\n",
       "      <td>0.00</td>\n",
       "      <td>-0.080349</td>\n",
       "      <td>0.915758</td>\n",
       "      <td>-1.176286</td>\n",
       "      <td>6.500000</td>\n",
       "      <td>20.000000</td>\n",
       "      <td>0.153488</td>\n",
       "      <td>0.000000</td>\n",
       "    </tr>\n",
       "    <tr>\n",
       "      <th>4</th>\n",
       "      <td>-0.6</td>\n",
       "      <td>-0.545455</td>\n",
       "      <td>0.0</td>\n",
       "      <td>0.50</td>\n",
       "      <td>0.0</td>\n",
       "      <td>-0.25</td>\n",
       "      <td>-0.333333</td>\n",
       "      <td>-0.5</td>\n",
       "      <td>2.0</td>\n",
       "      <td>1.0</td>\n",
       "      <td>...</td>\n",
       "      <td>-0.5</td>\n",
       "      <td>0.0</td>\n",
       "      <td>0.00</td>\n",
       "      <td>-0.279704</td>\n",
       "      <td>-0.967077</td>\n",
       "      <td>0.612956</td>\n",
       "      <td>0.500000</td>\n",
       "      <td>-0.666667</td>\n",
       "      <td>-0.116279</td>\n",
       "      <td>-0.991018</td>\n",
       "    </tr>\n",
       "  </tbody>\n",
       "</table>\n",
       "<p>5 rows × 29 columns</p>\n",
       "</div>"
      ],
      "text/plain": [
       "   basin    region  public_meeting  scheme_management  permit  \\\n",
       "0   -0.8 -0.909091             0.0               0.00    -1.0   \n",
       "1   -0.6 -0.818182             1.0               0.25     0.0   \n",
       "2   -0.4 -0.727273             0.0               0.00     0.0   \n",
       "3   -0.2 -0.636364             0.0               0.00     0.0   \n",
       "4   -0.6 -0.545455             0.0               0.50     0.0   \n",
       "\n",
       "   extraction_type  extraction_type_group  extraction_type_class  management  \\\n",
       "0            -0.25              -0.333333                   -0.5         0.0   \n",
       "1            -0.25              -0.333333                   -0.5         1.0   \n",
       "2            -0.25              -0.333333                   -0.5         0.0   \n",
       "3             0.00               0.000000                    0.0         0.0   \n",
       "4            -0.25              -0.333333                   -0.5         2.0   \n",
       "\n",
       "   management_group  ...  waterpoint_type  waterpoint_type_group  amount_tsh  \\\n",
       "0               0.0  ...             -0.5                    0.0      300.00   \n",
       "1               0.0  ...             -0.5                    0.0        0.00   \n",
       "2               0.0  ...              0.0                    0.0        1.25   \n",
       "3               0.0  ...              0.0                    0.0        0.00   \n",
       "4               1.0  ...             -0.5                    0.0        0.00   \n",
       "\n",
       "   gps_height  new_longitude  new_latitude  region_code  district_code  \\\n",
       "0    0.773925       0.007513     -0.927176    -0.083333       0.666667   \n",
       "1    0.780747      -0.053751      0.551184     0.666667      -0.333333   \n",
       "2    0.240288       0.653248      0.230180     0.750000       0.333333   \n",
       "3   -0.080349       0.915758     -1.176286     6.500000      20.000000   \n",
       "4   -0.279704      -0.967077      0.612956     0.500000      -0.666667   \n",
       "\n",
       "   population  construction_year  \n",
       "0    0.390698           0.006487  \n",
       "1    1.186047           0.011976  \n",
       "2    1.046512           0.011477  \n",
       "3    0.153488           0.000000  \n",
       "4   -0.116279          -0.991018  \n",
       "\n",
       "[5 rows x 29 columns]"
      ]
     },
     "execution_count": 21,
     "metadata": {},
     "output_type": "execute_result"
    }
   ],
   "source": [
    "X.head()"
   ]
  },
  {
   "cell_type": "code",
   "execution_count": 25,
   "metadata": {},
   "outputs": [
    {
     "name": "stderr",
     "output_type": "stream",
     "text": [
      "C:\\Users\\danie\\Anaconda3\\lib\\site-packages\\sklearn\\model_selection\\_validation.py:528: DataConversionWarning: A column-vector y was passed when a 1d array was expected. Please change the shape of y to (n_samples,), for example using ravel().\n",
      "  estimator.fit(X_train, y_train, **fit_params)\n",
      "C:\\Users\\danie\\Anaconda3\\lib\\site-packages\\sklearn\\model_selection\\_validation.py:528: DataConversionWarning: A column-vector y was passed when a 1d array was expected. Please change the shape of y to (n_samples,), for example using ravel().\n",
      "  estimator.fit(X_train, y_train, **fit_params)\n",
      "C:\\Users\\danie\\Anaconda3\\lib\\site-packages\\sklearn\\model_selection\\_validation.py:528: DataConversionWarning: A column-vector y was passed when a 1d array was expected. Please change the shape of y to (n_samples,), for example using ravel().\n",
      "  estimator.fit(X_train, y_train, **fit_params)\n",
      "C:\\Users\\danie\\Anaconda3\\lib\\site-packages\\sklearn\\model_selection\\_validation.py:528: DataConversionWarning: A column-vector y was passed when a 1d array was expected. Please change the shape of y to (n_samples,), for example using ravel().\n",
      "  estimator.fit(X_train, y_train, **fit_params)\n",
      "C:\\Users\\danie\\Anaconda3\\lib\\site-packages\\sklearn\\model_selection\\_validation.py:528: DataConversionWarning: A column-vector y was passed when a 1d array was expected. Please change the shape of y to (n_samples,), for example using ravel().\n",
      "  estimator.fit(X_train, y_train, **fit_params)\n",
      "C:\\Users\\danie\\Anaconda3\\lib\\site-packages\\sklearn\\utils\\deprecation.py:125: FutureWarning: You are accessing a training score ('train_score'), which will not be available by default any more in 0.21. If you need training scores, please set return_train_score=True\n",
      "  warnings.warn(*warn_args, **warn_kwargs)\n"
     ]
    },
    {
     "data": {
      "text/plain": [
       "{'fit_time': array([41.91098833, 48.93994403, 54.43369699, 58.0788362 , 48.62481451]),\n",
       " 'score_time': array([0.34494591, 0.47239614, 0.5854001 , 0.34379268, 0.34388304]),\n",
       " 'test_score': array([0.81070617, 0.80675027, 0.80833333, 0.80563973, 0.80628052]),\n",
       " 'train_score': array([0.93680423, 0.94019234, 0.94339226, 0.93808923, 0.94183746])}"
      ]
     },
     "execution_count": 25,
     "metadata": {},
     "output_type": "execute_result"
    }
   ],
   "source": [
    "alt_rf=search_rf.best_estimator_\n",
    "cv_results_rf = cross_validate(alt_rf, X, y, cv=5)\n",
    "cv_results_rf"
   ]
  },
  {
   "cell_type": "code",
   "execution_count": 27,
   "metadata": {},
   "outputs": [
    {
     "data": {
      "text/plain": [
       "0.8075420051278478"
      ]
     },
     "execution_count": 27,
     "metadata": {},
     "output_type": "execute_result"
    }
   ],
   "source": [
    "cv_results_rf['test_score'].mean()"
   ]
  },
  {
   "cell_type": "code",
   "execution_count": null,
   "metadata": {},
   "outputs": [],
   "source": []
  }
 ],
 "metadata": {
  "kernelspec": {
   "display_name": "Python 3",
   "language": "python",
   "name": "python3"
  },
  "language_info": {
   "codemirror_mode": {
    "name": "ipython",
    "version": 3
   },
   "file_extension": ".py",
   "mimetype": "text/x-python",
   "name": "python",
   "nbconvert_exporter": "python",
   "pygments_lexer": "ipython3",
   "version": "3.7.3"
  }
 },
 "nbformat": 4,
 "nbformat_minor": 2
}
